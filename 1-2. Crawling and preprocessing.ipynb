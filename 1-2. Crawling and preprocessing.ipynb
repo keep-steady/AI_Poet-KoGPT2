{
 "cells": [
  {
   "cell_type": "code",
   "execution_count": 30,
   "metadata": {},
   "outputs": [],
   "source": [
    "from selenium import webdriver\n",
    "import bs4\n",
    "from time import sleep\n",
    "import re"
   ]
  },
  {
   "cell_type": "code",
   "execution_count": 2,
   "metadata": {},
   "outputs": [],
   "source": [
    "driver = webdriver.Chrome('D:\\Anaconda\\Crawler\\chromedriver.exe')\n",
    "driver.implicitly_wait(1)\n",
    "driver.get('https://vibe.naver.com/album/188293')\n",
    "\n",
    "html = driver.page_source\n",
    "soup = bs4.BeautifulSoup(html, 'html.parser')"
   ]
  },
  {
   "cell_type": "code",
   "execution_count": 32,
   "metadata": {},
   "outputs": [],
   "source": [
    "E = re.compile('[0-9]')\n",
    "\n",
    "def Eng(sentence):\n",
    "    for i in range(len(sentence)):\n",
    "        if 65 <= ord(sentence[i]) <= 90 or 90 <= ord(sentence[i]) <= 122:\n",
    "            return True\n",
    "    return False"
   ]
  },
  {
   "cell_type": "code",
   "execution_count": 31,
   "metadata": {},
   "outputs": [],
   "source": [
    "answer = []\n",
    "lyricses = []"
   ]
  },
  {
   "cell_type": "code",
   "execution_count": 39,
   "metadata": {},
   "outputs": [
    {
     "data": {
      "text/plain": [
       "56"
      ]
     },
     "execution_count": 39,
     "metadata": {},
     "output_type": "execute_result"
    }
   ],
   "source": [
    "for i in range(2443341, 2443357+1):\n",
    "\n",
    "    driver.get('https://vibe.naver.com/track/{}'.format(i))\n",
    "    html = driver.page_source\n",
    "    sleep(1)\n",
    "    soup = bs4.BeautifulSoup(html, 'html.parser')\n",
    "    sleep(1)\n",
    "    lyrics = soup.find('div', class_='end_section')\n",
    "    lyricses.append(lyrics)\n",
    "    \n",
    "len(lyricses)"
   ]
  },
  {
   "cell_type": "code",
   "execution_count": 40,
   "metadata": {
    "scrolled": false
   },
   "outputs": [],
   "source": [
    "lyrices = [lyric.find('p') for lyric in lyricses if lyric.find('p') != None]\n",
    "\n",
    "lyrices = list(map(lambda x: x.text, lyrices))\n",
    "\n",
    "lyrices = list(map(lambda x: x.replace('우 ',''), lyrices)) #이문세 한정\n",
    "\n",
    "lyrices = list(map(lambda x: x.replace('\\r',''), lyrices))\n",
    "\n",
    "lyrices = list(map(lambda x: x.replace('...',''), lyrices))\n",
    "\n",
    "lyrices = list(map(lambda x: x.replace('반복',''), lyrices))\n",
    "\n",
    "lyrices = list(map(lambda x: x.replace('(',''), lyrices))\n",
    "\n",
    "lyrices = list(map(lambda x: x.replace(')',''), lyrices))\n",
    "\n",
    "lyrices = list(map(lambda x: x.replace('☆',''), lyrices))\n",
    "\n",
    "lyrices = list(map(lambda x: x.split('\\n'), lyrices))"
   ]
  },
  {
   "cell_type": "code",
   "execution_count": 41,
   "metadata": {},
   "outputs": [],
   "source": [
    "for kkk in lyrices:\n",
    "    for a in kkk:\n",
    "        if '간주중' in a.replace(' ',''):\n",
    "            continue\n",
    "        if '후렴' in a.replace(' ',''):\n",
    "            continue\n",
    "        if '간주' in a.replace(' ',''):\n",
    "            continue\n",
    "        if '닫기' in a.replace(' ',''):\n",
    "            continue\n",
    "        if '*' in a.replace(' ',''):\n",
    "            continue\n",
    "        if '~' in a.replace(' ',''):\n",
    "            continue\n",
    "        if '@' in a.replace(' ',''):\n",
    "            continue\n",
    "        if '-' in a.replace(' ',''):\n",
    "            continue\n",
    "        if '(' in a.replace(' ',''):\n",
    "            continue\n",
    "        if '\"' in a.replace(' ',''):\n",
    "            continue\n",
    "        if \"'\" in a.replace(' ',''):\n",
    "            continue\n",
    "        if E.search(a):\n",
    "            continue\n",
    "        if not a.replace(' ',''):\n",
    "            continue\n",
    "        if Eng(a.replace(' ','')):\n",
    "            continue\n",
    "            \n",
    "        answer.append(a.strip())"
   ]
  },
  {
   "cell_type": "code",
   "execution_count": 42,
   "metadata": {},
   "outputs": [],
   "source": [
    "answers = []\n",
    "lists = []\n",
    "\n",
    "for a,b in enumerate(answer):\n",
    "    lists.append((a,b))\n",
    "\n",
    "answer = list(set(answer)) # 중복 제거\n",
    "\n",
    "for ans in answer:\n",
    "    for lis in lists:\n",
    "        if lis[-1] == ans:\n",
    "            answers.append(lis)\n",
    "            break"
   ]
  },
  {
   "cell_type": "code",
   "execution_count": 44,
   "metadata": {},
   "outputs": [],
   "source": [
    "answer = list(map(lambda x:x[1], sorted(answers, key=lambda x:x[0])))"
   ]
  },
  {
   "cell_type": "code",
   "execution_count": 46,
   "metadata": {},
   "outputs": [],
   "source": [
    "for _ in range(10):\n",
    "    answer = list(map(lambda x: x.replace('  ',' '), answer))"
   ]
  },
  {
   "cell_type": "code",
   "execution_count": 48,
   "metadata": {},
   "outputs": [],
   "source": [
    "with open(\"dataset 이문세선생님.txt\", \"w\", encoding='utf-8') as f:\n",
    "    for line in answer:\n",
    "        if 5 < len(line) < 34:\n",
    "            f.write(line)\n",
    "            f.write('\\n')"
   ]
  },
  {
   "cell_type": "code",
   "execution_count": null,
   "metadata": {},
   "outputs": [],
   "source": []
  }
 ],
 "metadata": {
  "kernelspec": {
   "display_name": "Python 3",
   "language": "python",
   "name": "python3"
  },
  "language_info": {
   "codemirror_mode": {
    "name": "ipython",
    "version": 3
   },
   "file_extension": ".py",
   "mimetype": "text/x-python",
   "name": "python",
   "nbconvert_exporter": "python",
   "pygments_lexer": "ipython3",
   "version": "3.7.6"
  }
 },
 "nbformat": 4,
 "nbformat_minor": 4
}
