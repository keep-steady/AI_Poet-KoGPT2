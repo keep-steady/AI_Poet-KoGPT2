{
 "cells": [
  {
   "cell_type": "code",
   "execution_count": 1,
   "metadata": {},
   "outputs": [],
   "source": [
    "from selenium import webdriver\n",
    "import bs4\n",
    "from time import sleep"
   ]
  },
  {
   "cell_type": "code",
   "execution_count": 2,
   "metadata": {},
   "outputs": [],
   "source": [
    "driver = webdriver.Chrome('C:\\웹 드라이버\\chromedriver.exe')#웹 드라이버가 저장되는 경로입니다.\n",
    "driver.implicitly_wait(1)\n",
    "driver.get('http://www.baedalmal.com/poem/1-10.html')# 1-10 부터 1-20, 1-30, 1-40, 2-10, 2-20, 2-30, 2-40, 모두 순회하며 크롤링 합니다.\n",
    "    \n",
    "html = driver.page_source\n",
    "soup = bs4.BeautifulSoup(html, 'html.parser')\n",
    "\n",
    "body = soup.find('body')\n",
    "\n",
    "a = body.text"
   ]
  },
  {
   "cell_type": "code",
   "execution_count": 3,
   "metadata": {},
   "outputs": [],
   "source": [
    "import re\n",
    "\n",
    "data = []\n",
    "    \n",
    "#줄바꿈 하나만 남기기\n",
    "for i in range(100):\n",
    "    a = a.replace('\\n\\n','\\n')\n",
    "    \n",
    "    \n",
    "a = a.split('\\n')\n",
    "\n",
    "# 길이가 50자 이하인 짧은 글귀만 취급합니다.\n",
    "for poem in a:\n",
    "    if len(poem) < 50:\n",
    "        data.append(poem)\n",
    "    \n",
    "q = re.compile('[0-9]') #숫자를 포함하는 문장 제거 # 극단적인 방법이긴 합니다만 약력이나 연혁 등을 지우기 위함입니다.\n",
    "\n",
    "w = re.compile('[*]') # * 를 포함하는 문장 제거\n",
    "\n",
    "e = re.compile('[(]') # 괄호를 포함하는 문장 제거 # 대부분 괄호안에는 한자가 들어가더라구요\n",
    "\n",
    "r = re.compile('위로 갑니다') # 위로 갑니다 제거\n",
    "      \n",
    "qw = re.compile('■') #제거\n",
    "    \n",
    "we = re.compile('{') # 출판지나 시집 제목등이 중괄호 안에 있더라구요\n",
    "\n",
    "er = re.compile('<') # 제거\n",
    "      \n",
    "qwe = re.compile('>') # 제거 ㅎ\n",
    "\n",
    "qwr = re.compile('―') # 제거\n",
    "\n",
    "qer = re.compile('ㄹ') #\"처.....ㄹ 썩\" 같은 이상한 문장이 있습니다.\n",
    "\n",
    "for arr in data[:]:\n",
    "    if q.search(arr) or w.search(arr) or e.search(arr) or r.search(arr) or qw.search(arr):\n",
    "        data.remove(arr)\n",
    "    elif we.search(arr) or er.search(arr) or qwe.search(arr) or qwr.search(arr) or qer.search(arr):\n",
    "        data.remove(arr)\n"
   ]
  },
  {
   "cell_type": "code",
   "execution_count": null,
   "metadata": {},
   "outputs": [],
   "source": [
    "with open(\"korean_poem1.txt\", \"w\") as f:\n",
    "    for line in data:\n",
    "        if line == ' ':\n",
    "            continue\n",
    "        f.write(line)\n",
    "        f.write('\\n')"
   ]
  }
 ],
 "metadata": {
  "kernelspec": {
   "display_name": "Python 3",
   "language": "python",
   "name": "python3"
  },
  "language_info": {
   "codemirror_mode": {
    "name": "ipython",
    "version": 3
   },
   "file_extension": ".py",
   "mimetype": "text/x-python",
   "name": "python",
   "nbconvert_exporter": "python",
   "pygments_lexer": "ipython3",
   "version": "3.7.4"
  }
 },
 "nbformat": 4,
 "nbformat_minor": 2
}
