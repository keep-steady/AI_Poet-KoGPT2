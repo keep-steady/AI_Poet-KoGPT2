{
  "nbformat": 4,
  "nbformat_minor": 0,
  "metadata": {
    "colab": {
      "name": "3. Generater.ipynb",
      "provenance": [],
      "authorship_tag": "ABX9TyOgzi3gt0mAhETaafRAmaLD",
      "include_colab_link": true
    },
    "kernelspec": {
      "name": "python3",
      "display_name": "Python 3"
    },
    "accelerator": "GPU"
  },
  "cells": [
    {
      "cell_type": "markdown",
      "metadata": {
        "id": "view-in-github",
        "colab_type": "text"
      },
      "source": [
        "<a href=\"https://colab.research.google.com/github/newfull5/AI_Poet-KoGPT2/blob/master/3.%20Generater.ipynb\" target=\"_parent\"><img src=\"https://colab.research.google.com/assets/colab-badge.svg\" alt=\"Open In Colab\"/></a>"
      ]
    },
    {
      "cell_type": "code",
      "metadata": {
        "id": "6lbu_X17pLQK",
        "colab_type": "code",
        "colab": {
          "base_uri": "https://localhost:8080/",
          "height": 35
        },
        "outputId": "6b21a738-4924-4a1b-e735-d50378fc0873"
      },
      "source": [
        "from google.colab import drive\n",
        "drive.mount('/content/drive')"
      ],
      "execution_count": 4,
      "outputs": [
        {
          "output_type": "stream",
          "text": [
            "Drive already mounted at /content/drive; to attempt to forcibly remount, call drive.mount(\"/content/drive\", force_remount=True).\n"
          ],
          "name": "stdout"
        }
      ]
    },
    {
      "cell_type": "code",
      "metadata": {
        "id": "Idc5kfNzpPIG",
        "colab_type": "code",
        "outputId": "50a2d3ab-eead-4ec2-a334-3b49c4567eec",
        "colab": {
          "base_uri": "https://localhost:8080/",
          "height": 35
        }
      },
      "source": [
        "!git clone https://github.com/SKT-AI/KoGPT2.git"
      ],
      "execution_count": 5,
      "outputs": [
        {
          "output_type": "stream",
          "text": [
            "fatal: destination path 'KoGPT2' already exists and is not an empty directory.\n"
          ],
          "name": "stdout"
        }
      ]
    },
    {
      "cell_type": "code",
      "metadata": {
        "id": "XKkHQPlmp2SF",
        "colab_type": "code",
        "colab": {
          "base_uri": "https://localhost:8080/",
          "height": 685
        },
        "outputId": "0d070192-2b4f-4bb4-fc1c-9c495f08cb4d"
      },
      "source": [
        "!cd KoGPT2 && pip install -r requirements.txt\n",
        "!cd KoGPT2 && pip install ."
      ],
      "execution_count": 6,
      "outputs": [
        {
          "output_type": "stream",
          "text": [
            "Requirement already satisfied: gluonnlp==0.9.1 in /usr/local/lib/python3.6/dist-packages (from -r requirements.txt (line 1)) (0.9.1)\n",
            "Requirement already satisfied: mxnet==1.6.0 in /usr/local/lib/python3.6/dist-packages (from -r requirements.txt (line 2)) (1.6.0)\n",
            "Requirement already satisfied: sentencepiece>=0.1.85 in /usr/local/lib/python3.6/dist-packages (from -r requirements.txt (line 3)) (0.1.91)\n",
            "Requirement already satisfied: torch==1.5.0 in /usr/local/lib/python3.6/dist-packages (from -r requirements.txt (line 4)) (1.5.0+cu101)\n",
            "Requirement already satisfied: transformers==2.11.0 in /usr/local/lib/python3.6/dist-packages (from -r requirements.txt (line 5)) (2.11.0)\n",
            "Requirement already satisfied: packaging in /usr/local/lib/python3.6/dist-packages (from gluonnlp==0.9.1->-r requirements.txt (line 1)) (20.4)\n",
            "Requirement already satisfied: cython in /usr/local/lib/python3.6/dist-packages (from gluonnlp==0.9.1->-r requirements.txt (line 1)) (0.29.19)\n",
            "Requirement already satisfied: numpy>=1.16.0 in /usr/local/lib/python3.6/dist-packages (from gluonnlp==0.9.1->-r requirements.txt (line 1)) (1.18.4)\n",
            "Requirement already satisfied: requests<3,>=2.20.0 in /usr/local/lib/python3.6/dist-packages (from mxnet==1.6.0->-r requirements.txt (line 2)) (2.23.0)\n",
            "Requirement already satisfied: graphviz<0.9.0,>=0.8.1 in /usr/local/lib/python3.6/dist-packages (from mxnet==1.6.0->-r requirements.txt (line 2)) (0.8.4)\n",
            "Requirement already satisfied: future in /usr/local/lib/python3.6/dist-packages (from torch==1.5.0->-r requirements.txt (line 4)) (0.16.0)\n",
            "Requirement already satisfied: tqdm>=4.27 in /usr/local/lib/python3.6/dist-packages (from transformers==2.11.0->-r requirements.txt (line 5)) (4.41.1)\n",
            "Requirement already satisfied: sacremoses in /usr/local/lib/python3.6/dist-packages (from transformers==2.11.0->-r requirements.txt (line 5)) (0.0.43)\n",
            "Requirement already satisfied: filelock in /usr/local/lib/python3.6/dist-packages (from transformers==2.11.0->-r requirements.txt (line 5)) (3.0.12)\n",
            "Requirement already satisfied: dataclasses; python_version < \"3.7\" in /usr/local/lib/python3.6/dist-packages (from transformers==2.11.0->-r requirements.txt (line 5)) (0.7)\n",
            "Requirement already satisfied: tokenizers==0.7.0 in /usr/local/lib/python3.6/dist-packages (from transformers==2.11.0->-r requirements.txt (line 5)) (0.7.0)\n",
            "Requirement already satisfied: regex!=2019.12.17 in /usr/local/lib/python3.6/dist-packages (from transformers==2.11.0->-r requirements.txt (line 5)) (2019.12.20)\n",
            "Requirement already satisfied: pyparsing>=2.0.2 in /usr/local/lib/python3.6/dist-packages (from packaging->gluonnlp==0.9.1->-r requirements.txt (line 1)) (2.4.7)\n",
            "Requirement already satisfied: six in /usr/local/lib/python3.6/dist-packages (from packaging->gluonnlp==0.9.1->-r requirements.txt (line 1)) (1.12.0)\n",
            "Requirement already satisfied: certifi>=2017.4.17 in /usr/local/lib/python3.6/dist-packages (from requests<3,>=2.20.0->mxnet==1.6.0->-r requirements.txt (line 2)) (2020.4.5.1)\n",
            "Requirement already satisfied: idna<3,>=2.5 in /usr/local/lib/python3.6/dist-packages (from requests<3,>=2.20.0->mxnet==1.6.0->-r requirements.txt (line 2)) (2.9)\n",
            "Requirement already satisfied: urllib3!=1.25.0,!=1.25.1,<1.26,>=1.21.1 in /usr/local/lib/python3.6/dist-packages (from requests<3,>=2.20.0->mxnet==1.6.0->-r requirements.txt (line 2)) (1.24.3)\n",
            "Requirement already satisfied: chardet<4,>=3.0.2 in /usr/local/lib/python3.6/dist-packages (from requests<3,>=2.20.0->mxnet==1.6.0->-r requirements.txt (line 2)) (3.0.4)\n",
            "Requirement already satisfied: click in /usr/local/lib/python3.6/dist-packages (from sacremoses->transformers==2.11.0->-r requirements.txt (line 5)) (7.1.2)\n",
            "Requirement already satisfied: joblib in /usr/local/lib/python3.6/dist-packages (from sacremoses->transformers==2.11.0->-r requirements.txt (line 5)) (0.15.1)\n",
            "Processing /content/KoGPT2\n",
            "Building wheels for collected packages: kogpt2\n",
            "  Building wheel for kogpt2 (setup.py) ... \u001b[?25l\u001b[?25hdone\n",
            "  Created wheel for kogpt2: filename=kogpt2-0.1.1-cp36-none-any.whl size=13926 sha256=99363d50c2cd0cd0c021f440f48cc238cd8a356e1917a3b5eb0f6e20c5675ff9\n",
            "  Stored in directory: /tmp/pip-ephem-wheel-cache-y9sha0ci/wheels/ac/e5/83/e839e6a987261c05b2e32cbd9770007e19f8ea7e2f2f7b9d3c\n",
            "Successfully built kogpt2\n",
            "Installing collected packages: kogpt2\n",
            "  Found existing installation: kogpt2 0.1.1\n",
            "    Uninstalling kogpt2-0.1.1:\n",
            "      Successfully uninstalled kogpt2-0.1.1\n",
            "Successfully installed kogpt2-0.1.1\n"
          ],
          "name": "stdout"
        }
      ]
    },
    {
      "cell_type": "code",
      "metadata": {
        "id": "f4vrUGkBp7DZ",
        "colab_type": "code",
        "colab": {}
      },
      "source": [
        "from kogpt2.pytorch_kogpt2 import get_pytorch_kogpt2_model\n",
        "from gluonnlp.data import SentencepieceTokenizer\n",
        "from kogpt2.utils import get_tokenizer\n",
        "from torch.utils.data import DataLoader\n",
        "import torch"
      ],
      "execution_count": 0,
      "outputs": []
    },
    {
      "cell_type": "code",
      "metadata": {
        "id": "rJWI3XmoqQW9",
        "colab_type": "code",
        "colab": {}
      },
      "source": [
        "if torch.cuda.device_count():\n",
        "  PU = 'cuda'\n",
        "else:\n",
        "  PU = 'cpu'"
      ],
      "execution_count": 0,
      "outputs": []
    },
    {
      "cell_type": "code",
      "metadata": {
        "id": "qWqO4fu_qWyR",
        "colab_type": "code",
        "colab": {}
      },
      "source": [
        "PU='cpu'"
      ],
      "execution_count": 0,
      "outputs": []
    },
    {
      "cell_type": "code",
      "metadata": {
        "id": "sLlWKPpxqXoo",
        "colab_type": "code",
        "colab": {}
      },
      "source": [
        "#토큰화와 인덱싱을해서 리턴하는 함수\n",
        "\n",
        "def dataset (file_path):\n",
        "  data = []\n",
        "  tokenizer = SentencepieceTokenizer(get_tokenizer())\n",
        "  f = open(file_path,'r',encoding='utf-8')\n",
        "\n",
        "  while True:\n",
        "    file = f.readline()\n",
        "\n",
        "    if not file:\n",
        "      break\n",
        "    line = tokenizer(file[:-1])\n",
        "    indexing_word = [vocab[vocab.bos_token]]+ vocab[line] + [vocab[vocab.eos_token]]\n",
        "    data.append(indexing_word)\n",
        "\n",
        "  f.close()\n",
        "\n",
        "  return data"
      ],
      "execution_count": 0,
      "outputs": []
    },
    {
      "cell_type": "code",
      "metadata": {
        "id": "AKI_hmnnqjPo",
        "colab_type": "code",
        "colab": {}
      },
      "source": [
        "model, vocab = get_pytorch_kogpt2_model()\n",
        "\n",
        "load_path = 'drive/My Drive/Colab Notebooks/KoGPT2_checkpoint/KoGPT2_checkpoint.tar'\n",
        "checkpoint = torch.load(load_path, map_location=torch.device(PU))\n",
        "\n",
        "model.to(torch.device(PU)) #모델 연산 유닛 설정\n",
        "torch.load(load_path, map_location=torch.device(PU))\n",
        "\n",
        "model.load_state_dict(checkpoint['model_state_dict'])\n",
        "model.eval()"
      ],
      "execution_count": 0,
      "outputs": []
    },
    {
      "cell_type": "code",
      "metadata": {
        "id": "8brK2j4e79iz",
        "colab_type": "code",
        "colab": {}
      },
      "source": [
        "#모델 불러오기 코드 입니다\n",
        "from transformers import GPT2Config, GPT2LMHeadModel\n",
        "\n",
        "save_path = 'drive/My Drive/Colab Notebooks/KoGPT2_checkpoint/'\n",
        "\n",
        "kogpt2_config = {\n",
        "\t\t\"initializer_range\": 0.02,\n",
        "\t\t\"layer_norm_epsilon\": 0.000025,\n",
        "\t\t\"n_ctx\": 1024,\n",
        "\t\t\"n_embd\": 768,\n",
        "\t\t\"n_head\": 12,\n",
        "\t\t\"n_layer\": 12,\n",
        "\t\t\"n_positions\": 1024,\n",
        "\t\t\"vocab_size\": 50000\n",
        "}\n",
        "\n",
        "checkpoint = torch.load(save_path+'KoGPT2_checkpoint.tar', map_location=PU)\n",
        "\n",
        "kogpt2model = GPT2LMHeadModel(config=GPT2Config.from_dict(kogpt2_config))\n",
        "\n",
        "kogpt2model.load_state_dict(checkpoint['model_state_dict'])\n",
        "\n",
        "kogpt2model.eval()\n",
        "\n",
        "kogpt2model.to(torch.device(PU))\n",
        "\n",
        "model = kogpt2model"
      ],
      "execution_count": 0,
      "outputs": []
    },
    {
      "cell_type": "code",
      "metadata": {
        "id": "mbvPvKKVql1G",
        "colab_type": "code",
        "outputId": "c70c0292-d00a-4891-9032-57382c466f55",
        "colab": {
          "base_uri": "https://localhost:8080/",
          "height": 35
        }
      },
      "source": [
        "Tokenizer = SentencepieceTokenizer(get_tokenizer(), num_best=0, alpha=0)"
      ],
      "execution_count": 16,
      "outputs": [
        {
          "output_type": "stream",
          "text": [
            "using cached model\n"
          ],
          "name": "stdout"
        }
      ]
    },
    {
      "cell_type": "code",
      "metadata": {
        "id": "Sh7l0djy7A2i",
        "colab_type": "code",
        "outputId": "e32000a6-def6-4b25-a005-d7fc0c2459a8",
        "colab": {
          "base_uri": "https://localhost:8080/",
          "height": 1000
        }
      },
      "source": [
        "sentence = '세상'\n",
        "toked = Tokenizer(sentence)\n",
        "temp = []\n",
        "cnt = 0\n",
        "while True:\n",
        "  input_ids = torch.tensor([vocab[vocab.bos_token],] + vocab[toked]).unsqueeze(0)\n",
        "  pred = model(input_ids)[0]\n",
        "\n",
        "  gen = vocab.to_tokens(torch.argmax(pred, axis=-1).squeeze().tolist())\n",
        "  print(gen)\n",
        "  print(gen[-1])\n",
        "  gen = gen[-1]\n",
        "  cnt += 1\n",
        "\n",
        "  if cnt == 50:\n",
        "    break\n",
        "\n",
        "  if '</s>' == gen:\n",
        "    break\n",
        "  sentence += gen.replace('▁', ' ')\n",
        "  toked = Tokenizer(sentence)\n",
        "\n",
        "print(sentence)"
      ],
      "execution_count": 20,
      "outputs": [
        {
          "output_type": "stream",
          "text": [
            "['▁그', '에는']\n",
            "에는\n",
            "['▁그', '에는', '▁아름다운']\n",
            "▁아름다운\n",
            "['▁그', '에는', '▁아름다운', '▁보']\n",
            "▁보\n",
            "['▁그', '에는', '▁아름다운', '▁보', '금']\n",
            "금\n",
            "['▁그', '에는', '▁아름다운', '▁보', '금', '자리가']\n",
            "자리가\n",
            "['▁그', '에는', '▁아름다운', '▁보', '금', '자리가', '▁너무']\n",
            "▁너무\n",
            "['▁그', '에는', '▁아름다운', '▁보', '금', '자리가', '▁너무', '▁많다']\n",
            "▁많다\n",
            "['▁그', '에는', '▁아름다운', '▁보', '금', '자리가', '▁너무', '▁많다', '▁아름다운']\n",
            "▁아름다운\n",
            "['▁그', '에는', '▁아름다운', '▁보', '금', '자리가', '▁너무', '▁많다', '▁아름다운', '▁보']\n",
            "▁보\n",
            "['▁그', '에는', '▁아름다운', '▁보', '금', '자리가', '▁너무', '▁많다', '▁아름다운', '▁보', '금']\n",
            "금\n",
            "['▁그', '에는', '▁아름다운', '▁보', '금', '자리가', '▁너무', '▁많다', '▁아름다운', '▁보', '금', '자리를']\n",
            "자리를\n",
            "['▁그', '에는', '▁아름다운', '▁보', '금', '자리가', '▁너무', '▁많다', '▁아름다운', '▁보', '금', '자리를', '▁만들기']\n",
            "▁만들기\n",
            "['▁그', '에는', '▁아름다운', '▁보', '금', '자리가', '▁너무', '▁많다', '▁아름다운', '▁보', '금', '자리를', '▁만들기', '▁위해']\n",
            "▁위해\n",
            "['▁그', '에는', '▁아름다운', '▁보', '금', '자리가', '▁너무', '▁많다', '▁아름다운', '▁보', '금', '자리를', '▁만들기', '▁위해', '▁우리는']\n",
            "▁우리는\n",
            "['▁그', '에는', '▁아름다운', '▁보', '금', '자리가', '▁너무', '▁많다', '▁아름다운', '▁보', '금', '자리를', '▁만들기', '▁위해', '▁우리는', '▁부지']\n",
            "▁부지\n",
            "['▁그', '에는', '▁아름다운', '▁보', '금', '자리가', '▁너무', '▁많다', '▁아름다운', '▁보', '금', '자리를', '▁만들기', '▁위해', '▁우리는', '▁부지', '런']\n",
            "런\n",
            "['▁그', '에는', '▁아름다운', '▁보', '금', '자리가', '▁너무', '▁많다', '▁아름다운', '▁보', '금', '자리를', '▁만들기', '▁위해', '▁우리는', '▁부지', '런', '히']\n",
            "히\n",
            "['▁그', '에는', '▁아름다운', '▁보', '금', '자리가', '▁너무', '▁많다', '▁아름다운', '▁보', '금', '자리를', '▁만들기', '▁위해', '▁우리는', '▁부지', '런', '히', '▁흙']\n",
            "▁흙\n",
            "['▁그', '에는', '▁아름다운', '▁보', '금', '자리가', '▁너무', '▁많다', '▁아름다운', '▁보', '금', '자리를', '▁만들기', '▁위해', '▁우리는', '▁부지', '런', '히', '▁흙', '을']\n",
            "을\n",
            "['▁그', '에는', '▁아름다운', '▁보', '금', '자리가', '▁너무', '▁많다', '▁아름다운', '▁보', '금', '자리를', '▁만들기', '▁위해', '▁우리는', '▁부지', '런', '히', '▁흙', '을', '▁파헤']\n",
            "▁파헤\n",
            "['▁그', '에는', '▁아름다운', '▁보', '금', '자리가', '▁너무', '▁많다', '▁아름다운', '▁보', '금', '자리를', '▁만들기', '▁위해', '▁우리는', '▁부지', '런', '히', '▁흙', '을', '▁파헤', '쳐']\n",
            "쳐\n",
            "['▁그', '에는', '▁아름다운', '▁보', '금', '자리가', '▁너무', '▁많다', '▁아름다운', '▁보', '금', '자리를', '▁만들기', '▁위해', '▁우리는', '▁부지', '런', '히', '▁흙', '을', '▁파헤', '쳐', '▁보']\n",
            "▁보\n",
            "['▁그', '에는', '▁아름다운', '▁보', '금', '자리가', '▁너무', '▁많다', '▁아름다운', '▁보', '금', '자리를', '▁만들기', '▁위해', '▁우리는', '▁부지', '런', '히', '▁흙', '을', '▁파헤', '쳐', '▁보', '아야']\n",
            "아야\n",
            "['▁그', '에는', '▁아름다운', '▁보', '금', '자리가', '▁너무', '▁많다', '▁아름다운', '▁보', '금', '자리를', '▁만들기', '▁위해', '▁우리는', '▁부지', '런', '히', '▁흙', '을', '▁파헤', '쳐', '▁보', '아야', '▁한다']\n",
            "▁한다\n",
            "['▁그', '에는', '▁아름다운', '▁보', '금', '자리가', '▁너무', '▁많다', '▁아름다운', '▁보', '금', '자리를', '▁만들기', '▁위해', '▁우리는', '▁부지', '런', '히', '▁흙', '을', '▁파헤', '쳐', '▁보', '아야', '▁한다', '▁흙']\n",
            "▁흙\n",
            "['▁그', '에는', '▁아름다운', '▁보', '금', '자리가', '▁너무', '▁많다', '▁아름다운', '▁보', '금', '자리를', '▁만들기', '▁위해', '▁우리는', '▁부지', '런', '히', '▁흙', '을', '▁파헤', '쳐', '▁보', '아야', '▁한다', '▁흙', '을']\n",
            "을\n",
            "['▁그', '에는', '▁아름다운', '▁보', '금', '자리가', '▁너무', '▁많다', '▁아름다운', '▁보', '금', '자리를', '▁만들기', '▁위해', '▁우리는', '▁부지', '런', '히', '▁흙', '을', '▁파헤', '쳐', '▁보', '아야', '▁한다', '▁흙', '을', '▁파헤']\n",
            "▁파헤\n",
            "['▁그', '에는', '▁아름다운', '▁보', '금', '자리가', '▁너무', '▁많다', '▁아름다운', '▁보', '금', '자리를', '▁만들기', '▁위해', '▁우리는', '▁부지', '런', '히', '▁흙', '을', '▁파헤', '쳐', '▁보', '아야', '▁한다', '▁흙', '을', '▁파헤', '쳐']\n",
            "쳐\n",
            "['▁그', '에는', '▁아름다운', '▁보', '금', '자리가', '▁너무', '▁많다', '▁아름다운', '▁보', '금', '자리를', '▁만들기', '▁위해', '▁우리는', '▁부지', '런', '히', '▁흙', '을', '▁파헤', '쳐', '▁보', '아야', '▁한다', '▁흙', '을', '▁파헤', '쳐', '▁보']\n",
            "▁보\n",
            "['▁그', '에는', '▁아름다운', '▁보', '금', '자리가', '▁너무', '▁많다', '▁아름다운', '▁보', '금', '자리를', '▁만들기', '▁위해', '▁우리는', '▁부지', '런', '히', '▁흙', '을', '▁파헤', '쳐', '▁보', '아야', '▁한다', '▁흙', '을', '▁파헤', '쳐', '▁보', '아야']\n",
            "아야\n",
            "['▁그', '에는', '▁아름다운', '▁보', '금', '자리가', '▁너무', '▁많다', '▁아름다운', '▁보', '금', '자리를', '▁만들기', '▁위해', '▁우리는', '▁부지', '런', '히', '▁흙', '을', '▁파헤', '쳐', '▁보', '아야', '▁한다', '▁흙', '을', '▁파헤', '쳐', '▁보', '아야', '▁비로소']\n",
            "▁비로소\n",
            "['▁그', '에는', '▁아름다운', '▁보', '금', '자리가', '▁너무', '▁많다', '▁아름다운', '▁보', '금', '자리를', '▁만들기', '▁위해', '▁우리는', '▁부지', '런', '히', '▁흙', '을', '▁파헤', '쳐', '▁보', '아야', '▁한다', '▁흙', '을', '▁파헤', '쳐', '▁보', '아야', '▁비로소', '▁세상']\n",
            "▁세상\n",
            "['▁그', '에는', '▁아름다운', '▁보', '금', '자리가', '▁너무', '▁많다', '▁아름다운', '▁보', '금', '자리를', '▁만들기', '▁위해', '▁우리는', '▁부지', '런', '히', '▁흙', '을', '▁파헤', '쳐', '▁보', '아야', '▁한다', '▁흙', '을', '▁파헤', '쳐', '▁보', '아야', '▁비로소', '▁세상', '에는']\n",
            "에는\n",
            "['▁그', '에는', '▁아름다운', '▁보', '금', '자리가', '▁너무', '▁많다', '▁아름다운', '▁보', '금', '자리를', '▁만들기', '▁위해', '▁우리는', '▁부지', '런', '히', '▁흙', '을', '▁파헤', '쳐', '▁보', '아야', '▁한다', '▁흙', '을', '▁파헤', '쳐', '▁보', '아야', '▁비로소', '▁세상', '에는', '▁크고']\n",
            "▁크고\n",
            "['▁그', '에는', '▁아름다운', '▁보', '금', '자리가', '▁너무', '▁많다', '▁아름다운', '▁보', '금', '자리를', '▁만들기', '▁위해', '▁우리는', '▁부지', '런', '히', '▁흙', '을', '▁파헤', '쳐', '▁보', '아야', '▁한다', '▁흙', '을', '▁파헤', '쳐', '▁보', '아야', '▁비로소', '▁세상', '에는', '▁크고', '▁작은']\n",
            "▁작은\n",
            "['▁그', '에는', '▁아름다운', '▁보', '금', '자리가', '▁너무', '▁많다', '▁아름다운', '▁보', '금', '자리를', '▁만들기', '▁위해', '▁우리는', '▁부지', '런', '히', '▁흙', '을', '▁파헤', '쳐', '▁보', '아야', '▁한다', '▁흙', '을', '▁파헤', '쳐', '▁보', '아야', '▁비로소', '▁세상', '에는', '▁크고', '▁작은', '▁보']\n",
            "▁보\n",
            "['▁그', '에는', '▁아름다운', '▁보', '금', '자리가', '▁너무', '▁많다', '▁아름다운', '▁보', '금', '자리를', '▁만들기', '▁위해', '▁우리는', '▁부지', '런', '히', '▁흙', '을', '▁파헤', '쳐', '▁보', '아야', '▁한다', '▁흙', '을', '▁파헤', '쳐', '▁보', '아야', '▁비로소', '▁세상', '에는', '▁크고', '▁작은', '▁보', '금']\n",
            "금\n",
            "['▁그', '에는', '▁아름다운', '▁보', '금', '자리가', '▁너무', '▁많다', '▁아름다운', '▁보', '금', '자리를', '▁만들기', '▁위해', '▁우리는', '▁부지', '런', '히', '▁흙', '을', '▁파헤', '쳐', '▁보', '아야', '▁한다', '▁흙', '을', '▁파헤', '쳐', '▁보', '아야', '▁비로소', '▁세상', '에는', '▁크고', '▁작은', '▁보', '금', '자리가']\n",
            "자리가\n",
            "['▁그', '에는', '▁아름다운', '▁보', '금', '자리가', '▁너무', '▁많다', '▁아름다운', '▁보', '금', '자리를', '▁만들기', '▁위해', '▁우리는', '▁부지', '런', '히', '▁흙', '을', '▁파헤', '쳐', '▁보', '아야', '▁한다', '▁흙', '을', '▁파헤', '쳐', '▁보', '아야', '▁비로소', '▁세상', '에는', '▁크고', '▁작은', '▁보', '금', '자리가', '▁많이']\n",
            "▁많이\n",
            "['▁그', '에는', '▁아름다운', '▁보', '금', '자리가', '▁너무', '▁많다', '▁아름다운', '▁보', '금', '자리를', '▁만들기', '▁위해', '▁우리는', '▁부지', '런', '히', '▁흙', '을', '▁파헤', '쳐', '▁보', '아야', '▁한다', '▁흙', '을', '▁파헤', '쳐', '▁보', '아야', '▁비로소', '▁세상', '에는', '▁크고', '▁작은', '▁보', '금', '자리가', '▁많이', '▁생겨났다']\n",
            "▁생겨났다\n",
            "['▁그', '에는', '▁아름다운', '▁보', '금', '자리가', '▁너무', '▁많다', '▁아름다운', '▁보', '금', '자리를', '▁만들기', '▁위해', '▁우리는', '▁부지', '런', '히', '▁흙', '을', '▁파헤', '쳐', '▁보', '아야', '▁한다', '▁흙', '을', '▁파헤', '쳐', '▁보', '아야', '▁비로소', '▁세상', '에는', '▁크고', '▁작은', '▁보', '금', '자리가', '▁많이', '▁생겨났다', '▁세상']\n",
            "▁세상\n",
            "['▁그', '에는', '▁아름다운', '▁보', '금', '자리가', '▁너무', '▁많다', '▁아름다운', '▁보', '금', '자리를', '▁만들기', '▁위해', '▁우리는', '▁부지', '런', '히', '▁흙', '을', '▁파헤', '쳐', '▁보', '아야', '▁한다', '▁흙', '을', '▁파헤', '쳐', '▁보', '아야', '▁비로소', '▁세상', '에는', '▁크고', '▁작은', '▁보', '금', '자리가', '▁많이', '▁생겨났다', '▁세상', '에는']\n",
            "에는\n",
            "['▁그', '에는', '▁아름다운', '▁보', '금', '자리가', '▁너무', '▁많다', '▁아름다운', '▁보', '금', '자리를', '▁만들기', '▁위해', '▁우리는', '▁부지', '런', '히', '▁흙', '을', '▁파헤', '쳐', '▁보', '아야', '▁한다', '▁흙', '을', '▁파헤', '쳐', '▁보', '아야', '▁비로소', '▁세상', '에는', '▁크고', '▁작은', '▁보', '금', '자리가', '▁많이', '▁생겨났다', '▁세상', '에는', '▁크고']\n",
            "▁크고\n",
            "['▁그', '에는', '▁아름다운', '▁보', '금', '자리가', '▁너무', '▁많다', '▁아름다운', '▁보', '금', '자리를', '▁만들기', '▁위해', '▁우리는', '▁부지', '런', '히', '▁흙', '을', '▁파헤', '쳐', '▁보', '아야', '▁한다', '▁흙', '을', '▁파헤', '쳐', '▁보', '아야', '▁비로소', '▁세상', '에는', '▁크고', '▁작은', '▁보', '금', '자리가', '▁많이', '▁생겨났다', '▁세상', '에는', '▁크고', '▁작은']\n",
            "▁작은\n",
            "['▁그', '에는', '▁아름다운', '▁보', '금', '자리가', '▁너무', '▁많다', '▁아름다운', '▁보', '금', '자리를', '▁만들기', '▁위해', '▁우리는', '▁부지', '런', '히', '▁흙', '을', '▁파헤', '쳐', '▁보', '아야', '▁한다', '▁흙', '을', '▁파헤', '쳐', '▁보', '아야', '▁비로소', '▁세상', '에는', '▁크고', '▁작은', '▁보', '금', '자리가', '▁많이', '▁생겨났다', '▁세상', '에는', '▁크고', '▁작은', '▁보']\n",
            "▁보\n",
            "['▁그', '에는', '▁아름다운', '▁보', '금', '자리가', '▁너무', '▁많다', '▁아름다운', '▁보', '금', '자리를', '▁만들기', '▁위해', '▁우리는', '▁부지', '런', '히', '▁흙', '을', '▁파헤', '쳐', '▁보', '아야', '▁한다', '▁흙', '을', '▁파헤', '쳐', '▁보', '아야', '▁비로소', '▁세상', '에는', '▁크고', '▁작은', '▁보', '금', '자리가', '▁많이', '▁생겨났다', '▁세상', '에는', '▁크고', '▁작은', '▁보', '금']\n",
            "금\n",
            "['▁그', '에는', '▁아름다운', '▁보', '금', '자리가', '▁너무', '▁많다', '▁아름다운', '▁보', '금', '자리를', '▁만들기', '▁위해', '▁우리는', '▁부지', '런', '히', '▁흙', '을', '▁파헤', '쳐', '▁보', '아야', '▁한다', '▁흙', '을', '▁파헤', '쳐', '▁보', '아야', '▁비로소', '▁세상', '에는', '▁크고', '▁작은', '▁보', '금', '자리가', '▁많이', '▁생겨났다', '▁세상', '에는', '▁크고', '▁작은', '▁보', '금', '자리가']\n",
            "자리가\n",
            "['▁그', '에는', '▁아름다운', '▁보', '금', '자리가', '▁너무', '▁많다', '▁아름다운', '▁보', '금', '자리를', '▁만들기', '▁위해', '▁우리는', '▁부지', '런', '히', '▁흙', '을', '▁파헤', '쳐', '▁보', '아야', '▁한다', '▁흙', '을', '▁파헤', '쳐', '▁보', '아야', '▁비로소', '▁세상', '에는', '▁크고', '▁작은', '▁보', '금', '자리가', '▁많이', '▁생겨났다', '▁세상', '에는', '▁크고', '▁작은', '▁보', '금', '자리가', '▁많이']\n",
            "▁많이\n",
            "['▁그', '에는', '▁아름다운', '▁보', '금', '자리가', '▁너무', '▁많다', '▁아름다운', '▁보', '금', '자리를', '▁만들기', '▁위해', '▁우리는', '▁부지', '런', '히', '▁흙', '을', '▁파헤', '쳐', '▁보', '아야', '▁한다', '▁흙', '을', '▁파헤', '쳐', '▁보', '아야', '▁비로소', '▁세상', '에는', '▁크고', '▁작은', '▁보', '금', '자리가', '▁많이', '▁생겨났다', '▁세상', '에는', '▁크고', '▁작은', '▁보', '금', '자리가', '▁많이', '▁생겨났다']\n",
            "▁생겨났다\n",
            "['▁그', '에는', '▁아름다운', '▁보', '금', '자리가', '▁너무', '▁많다', '▁아름다운', '▁보', '금', '자리를', '▁만들기', '▁위해', '▁우리는', '▁부지', '런', '히', '▁흙', '을', '▁파헤', '쳐', '▁보', '아야', '▁한다', '▁흙', '을', '▁파헤', '쳐', '▁보', '아야', '▁비로소', '▁세상', '에는', '▁크고', '▁작은', '▁보', '금', '자리가', '▁많이', '▁생겨났다', '▁세상', '에는', '▁크고', '▁작은', '▁보', '금', '자리가', '▁많이', '▁생겨났다', '▁세상']\n",
            "▁세상\n",
            "세상에는 아름다운 보금자리가 너무 많다 아름다운 보금자리를 만들기 위해 우리는 부지런히 흙을 파헤쳐 보아야 한다 흙을 파헤쳐 보아야 비로소 세상에는 크고 작은 보금자리가 많이 생겨났다 세상에는 크고 작은 보금자리가 많이 생겨났다\n"
          ],
          "name": "stdout"
        }
      ]
    },
    {
      "cell_type": "code",
      "metadata": {
        "id": "esYqZMtnNqPR",
        "colab_type": "code",
        "colab": {}
      },
      "source": [
        ""
      ],
      "execution_count": 0,
      "outputs": []
    }
  ]
}